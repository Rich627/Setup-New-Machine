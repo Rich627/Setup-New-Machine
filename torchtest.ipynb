{
 "cells": [
  {
   "cell_type": "code",
   "execution_count": 1,
   "metadata": {},
   "outputs": [
    {
     "name": "stdout",
     "output_type": "stream",
     "text": [
      "# packages in environment at /Users/rich/miniconda3/envs/tensorflow:\n",
      "#\n",
      "# Name                    Version                   Build  Channel\n",
      "absl-py                   1.4.0                    pypi_0    pypi\n",
      "anyio                     3.7.1              pyhd8ed1ab_0    conda-forge\n",
      "appnope                   0.1.3              pyhd8ed1ab_0    conda-forge\n",
      "argon2-cffi               21.3.0             pyhd8ed1ab_0    conda-forge\n",
      "argon2-cffi-bindings      21.2.0          py310h8e9501a_3    conda-forge\n",
      "asttokens                 2.2.1              pyhd8ed1ab_0    conda-forge\n",
      "astunparse                1.6.3                    pypi_0    pypi\n",
      "attrs                     23.1.0             pyh71513ae_1    conda-forge\n",
      "backcall                  0.2.0              pyh9f0ad1d_0    conda-forge\n",
      "backports                 1.0                pyhd8ed1ab_3    conda-forge\n",
      "backports.functools_lru_cache 1.6.5              pyhd8ed1ab_0    conda-forge\n",
      "bayesian-optimization     1.4.3                    pypi_0    pypi\n",
      "beautifulsoup4            4.12.2             pyha770c72_0    conda-forge\n",
      "bleach                    6.0.0              pyhd8ed1ab_0    conda-forge\n",
      "blinker                   1.6.2              pyhd8ed1ab_0    conda-forge\n",
      "boto3                     1.28.1             pyhd8ed1ab_0    conda-forge\n",
      "botocore                  1.31.1             pyhd8ed1ab_0    conda-forge\n",
      "brotli                    1.0.9                h1a8c8d9_9    conda-forge\n",
      "brotli-bin                1.0.9                h1a8c8d9_9    conda-forge\n",
      "brotlipy                  0.7.0           py310h8e9501a_1005    conda-forge\n",
      "bzip2                     1.0.8                h3422bc3_4    conda-forge\n",
      "c-ares                    1.19.1               hb547adb_0    conda-forge\n",
      "ca-certificates           2023.05.30           hca03da5_0  \n",
      "cached-property           1.5.2                hd8ed1ab_1    conda-forge\n",
      "cached_property           1.5.2              pyha770c72_1    conda-forge\n",
      "cachetools                5.3.1                    pypi_0    pypi\n",
      "certifi                   2023.5.7        py310hca03da5_0  \n",
      "cffi                      1.15.1          py310h2399d43_3    conda-forge\n",
      "chardet                   5.1.0                    pypi_0    pypi\n",
      "charset-normalizer        3.1.0              pyhd8ed1ab_0    conda-forge\n",
      "click                     8.1.4           unix_pyh707e725_0    conda-forge\n",
      "cloudpickle               2.2.1                    pypi_0    pypi\n",
      "colorama                  0.4.6              pyhd8ed1ab_0    conda-forge\n",
      "comm                      0.1.3              pyhd8ed1ab_0    conda-forge\n",
      "contourpy                 1.1.0           py310h38f39d4_0    conda-forge\n",
      "cryptography              41.0.1          py310hdd3b5e7_0    conda-forge\n",
      "cycler                    0.11.0             pyhd8ed1ab_0    conda-forge\n",
      "debugpy                   1.6.7           py310h0f1eb42_0    conda-forge\n",
      "decorator                 5.1.1              pyhd8ed1ab_0    conda-forge\n",
      "defusedxml                0.7.1              pyhd8ed1ab_0    conda-forge\n",
      "entrypoints               0.4                pyhd8ed1ab_0    conda-forge\n",
      "exceptiongroup            1.1.2              pyhd8ed1ab_0    conda-forge\n",
      "executing                 1.2.0              pyhd8ed1ab_0    conda-forge\n",
      "flask                     2.3.2              pyhd8ed1ab_0    conda-forge\n",
      "flatbuffers               23.5.26                  pypi_0    pypi\n",
      "flit-core                 3.9.0              pyhd8ed1ab_0    conda-forge\n",
      "fonttools                 4.40.0          py310h2aa6e3c_0    conda-forge\n",
      "freetype                  2.12.1               hd633e50_1    conda-forge\n",
      "gast                      0.4.0                    pypi_0    pypi\n",
      "google-auth               2.21.0                   pypi_0    pypi\n",
      "google-auth-oauthlib      1.0.0                    pypi_0    pypi\n",
      "google-pasta              0.2.0                    pypi_0    pypi\n",
      "grpcio                    1.56.0                   pypi_0    pypi\n",
      "gym                       0.26.2                   pypi_0    pypi\n",
      "gym-notices               0.0.8                    pypi_0    pypi\n",
      "h5py                      3.9.0           nompi_py310h7fd3376_101    conda-forge\n",
      "hdf5                      1.14.1          nompi_h3aba7b3_100    conda-forge\n",
      "icu                       72.1                 he12128b_0    conda-forge\n",
      "idna                      3.4                pyhd8ed1ab_0    conda-forge\n",
      "importlib-metadata        6.8.0              pyha770c72_0    conda-forge\n",
      "importlib_metadata        6.8.0                hd8ed1ab_0    conda-forge\n",
      "importlib_resources       5.13.0             pyhd8ed1ab_0    conda-forge\n",
      "ipykernel                 6.24.0             pyh5fb750a_0    conda-forge\n",
      "ipython                   8.14.0             pyhd1c38e8_0    conda-forge\n",
      "ipython_genutils          0.2.0                      py_1    conda-forge\n",
      "ipywidgets                8.0.7              pyhd8ed1ab_0    conda-forge\n",
      "itsdangerous              2.1.2              pyhd8ed1ab_0    conda-forge\n",
      "jedi                      0.18.2             pyhd8ed1ab_0    conda-forge\n",
      "jinja2                    3.1.2              pyhd8ed1ab_1    conda-forge\n",
      "jmespath                  1.0.1              pyhd8ed1ab_0    conda-forge\n",
      "joblib                    1.3.0              pyhd8ed1ab_1    conda-forge\n",
      "jsonpickle                3.0.1                    pypi_0    pypi\n",
      "jsonschema                4.18.0             pyhd8ed1ab_0    conda-forge\n",
      "jsonschema-specifications 2023.6.1           pyhd8ed1ab_0    conda-forge\n",
      "jupyter                   1.0.0           py310hbe9552e_8    conda-forge\n",
      "jupyter_client            8.3.0              pyhd8ed1ab_0    conda-forge\n",
      "jupyter_console           6.6.3              pyhd8ed1ab_0    conda-forge\n",
      "jupyter_core              5.3.1           py310hbe9552e_0    conda-forge\n",
      "jupyter_events            0.6.3              pyhd8ed1ab_0    conda-forge\n",
      "jupyter_server            2.7.0              pyhd8ed1ab_0    conda-forge\n",
      "jupyter_server_terminals  0.4.4              pyhd8ed1ab_1    conda-forge\n",
      "jupyterlab_pygments       0.2.2              pyhd8ed1ab_0    conda-forge\n",
      "jupyterlab_widgets        3.0.8              pyhd8ed1ab_0    conda-forge\n",
      "kaggle                    1.5.15                   pypi_0    pypi\n",
      "keras                     2.13.1                   pypi_0    pypi\n",
      "kiwisolver                1.4.4           py310h2887b22_1    conda-forge\n",
      "krb5                      1.20.1               h69eda48_0    conda-forge\n",
      "lcms2                     2.15                 hd835a16_1    conda-forge\n",
      "lerc                      4.0.0                h9a09cb3_0    conda-forge\n",
      "libaec                    1.0.6                hb7217d7_1    conda-forge\n",
      "libblas                   3.9.0           17_osxarm64_openblas    conda-forge\n",
      "libbrotlicommon           1.0.9                h1a8c8d9_9    conda-forge\n",
      "libbrotlidec              1.0.9                h1a8c8d9_9    conda-forge\n",
      "libbrotlienc              1.0.9                h1a8c8d9_9    conda-forge\n",
      "libcblas                  3.9.0           17_osxarm64_openblas    conda-forge\n",
      "libclang                  16.0.0                   pypi_0    pypi\n",
      "libcurl                   8.1.2                h912dcd9_0    conda-forge\n",
      "libcxx                    16.0.6               h4653b0c_0    conda-forge\n",
      "libdeflate                1.18                 h1a8c8d9_0    conda-forge\n",
      "libedit                   3.1.20191231         hc8eb9b7_2    conda-forge\n",
      "libev                     4.33                 h642e427_1    conda-forge\n",
      "libffi                    3.4.2                h3422bc3_5    conda-forge\n",
      "libgfortran               5.0.0           12_2_0_hd922786_31    conda-forge\n",
      "libgfortran5              12.2.0              h0eea778_31    conda-forge\n",
      "libiconv                  1.17                 he4db4b2_0    conda-forge\n",
      "libjpeg-turbo             2.1.5.1              h1a8c8d9_0    conda-forge\n",
      "liblapack                 3.9.0           17_osxarm64_openblas    conda-forge\n",
      "libnghttp2                1.52.0               hae82a92_0    conda-forge\n",
      "libopenblas               0.3.23          openmp_hc731615_0    conda-forge\n",
      "libpng                    1.6.39               h76d750c_0    conda-forge\n",
      "libsodium                 1.0.18               h27ca646_1    conda-forge\n",
      "libsqlite                 3.42.0               hb31c410_0    conda-forge\n",
      "libssh2                   1.11.0               h7a5bd25_0    conda-forge\n",
      "libtiff                   4.5.1                h23a1a89_0    conda-forge\n",
      "libwebp-base              1.3.1                hb547adb_0    conda-forge\n",
      "libxcb                    1.15                 hf346824_0    conda-forge\n",
      "libxml2                   2.11.4               he3bdae6_0    conda-forge\n",
      "libxslt                   1.1.37               h1728932_1    conda-forge\n",
      "libzlib                   1.2.13               h53f4e23_5    conda-forge\n",
      "llvm-openmp               16.0.6               h1c12783_0    conda-forge\n",
      "lxml                      4.9.3           py310h78afa71_0    conda-forge\n",
      "markdown                  3.4.3                    pypi_0    pypi\n",
      "markupsafe                2.1.3           py310h2aa6e3c_0    conda-forge\n",
      "matplotlib                3.7.2           py310hb6292c7_0    conda-forge\n",
      "matplotlib-base           3.7.2           py310h49faba3_0    conda-forge\n",
      "matplotlib-inline         0.1.6              pyhd8ed1ab_0    conda-forge\n",
      "mido                      1.2.10                   pypi_0    pypi\n",
      "mistune                   3.0.0              pyhd8ed1ab_0    conda-forge\n",
      "more-itertools            9.1.0                    pypi_0    pypi\n",
      "munkres                   1.1.4              pyh9f0ad1d_0    conda-forge\n",
      "music21                   9.1.0                    pypi_0    pypi\n",
      "nbclassic                 1.0.0              pyhb4ecaf3_1    conda-forge\n",
      "nbclient                  0.8.0              pyhd8ed1ab_0    conda-forge\n",
      "nbconvert                 7.6.0              pyhd8ed1ab_0    conda-forge\n",
      "nbconvert-core            7.6.0              pyhd8ed1ab_0    conda-forge\n",
      "nbconvert-pandoc          7.6.0              pyhd8ed1ab_0    conda-forge\n",
      "nbformat                  5.9.0              pyhd8ed1ab_0    conda-forge\n",
      "ncurses                   6.4                  h7ea286d_0    conda-forge\n",
      "nest-asyncio              1.5.6              pyhd8ed1ab_0    conda-forge\n",
      "notebook                  6.5.4              pyha770c72_0    conda-forge\n",
      "notebook-shim             0.2.3              pyhd8ed1ab_0    conda-forge\n",
      "numpy                     1.24.3                   pypi_0    pypi\n",
      "oauthlib                  3.2.2                    pypi_0    pypi\n",
      "openjpeg                  2.5.0                hbc2ba62_2    conda-forge\n",
      "openssl                   3.1.1                h53f4e23_1    conda-forge\n",
      "opt-einsum                3.3.0                    pypi_0    pypi\n",
      "overrides                 7.3.1              pyhd8ed1ab_0    conda-forge\n",
      "packaging                 23.1               pyhd8ed1ab_0    conda-forge\n",
      "pandas                    2.0.3           py310h1cdf563_1    conda-forge\n",
      "pandas-datareader         0.10.0             pyh6c4a22f_0    conda-forge\n",
      "pandoc                    3.1.3                hce30654_0    conda-forge\n",
      "pandocfilters             1.5.0              pyhd8ed1ab_0    conda-forge\n",
      "parso                     0.8.3              pyhd8ed1ab_0    conda-forge\n",
      "pexpect                   4.8.0              pyh1a96a4e_2    conda-forge\n",
      "pickleshare               0.7.5                   py_1003    conda-forge\n",
      "pillow                    10.0.0          py310h60ecbdf_0    conda-forge\n",
      "pip                       23.1.2             pyhd8ed1ab_0    conda-forge\n",
      "pkgutil-resolve-name      1.3.10             pyhd8ed1ab_0    conda-forge\n",
      "platformdirs              3.8.1              pyhd8ed1ab_0    conda-forge\n",
      "pooch                     1.7.0              pyha770c72_3    conda-forge\n",
      "pretty-midi               0.2.10                   pypi_0    pypi\n",
      "prometheus_client         0.17.0             pyhd8ed1ab_0    conda-forge\n",
      "prompt-toolkit            3.0.39             pyha770c72_0    conda-forge\n",
      "prompt_toolkit            3.0.39               hd8ed1ab_0    conda-forge\n",
      "protobuf                  4.23.4                   pypi_0    pypi\n",
      "psutil                    5.9.5           py310h8e9501a_0    conda-forge\n",
      "pthread-stubs             0.4               h27ca646_1001    conda-forge\n",
      "ptyprocess                0.7.0              pyhd3deb0d_0    conda-forge\n",
      "pure_eval                 0.2.2              pyhd8ed1ab_0    conda-forge\n",
      "pyasn1                    0.5.0                    pypi_0    pypi\n",
      "pyasn1-modules            0.3.0                    pypi_0    pypi\n",
      "pycparser                 2.21               pyhd8ed1ab_0    conda-forge\n",
      "pygments                  2.15.1             pyhd8ed1ab_0    conda-forge\n",
      "pyobjc-core               9.2             py310hd07e440_0    conda-forge\n",
      "pyobjc-framework-cocoa    9.2             py310hd07e440_0    conda-forge\n",
      "pyopenssl                 23.2.0             pyhd8ed1ab_1    conda-forge\n",
      "pyparsing                 3.0.9              pyhd8ed1ab_0    conda-forge\n",
      "pysocks                   1.7.1              pyha2e5f31_6    conda-forge\n",
      "python                    3.10.12         h01493a6_0_cpython    conda-forge\n",
      "python-dateutil           2.8.2              pyhd8ed1ab_0    conda-forge\n",
      "python-fastjsonschema     2.17.1             pyhd8ed1ab_0    conda-forge\n",
      "python-json-logger        2.0.7              pyhd8ed1ab_0    conda-forge\n",
      "python-slugify            8.0.1                    pypi_0    pypi\n",
      "python-tzdata             2023.3             pyhd8ed1ab_0    conda-forge\n",
      "python_abi                3.10                    3_cp310    conda-forge\n",
      "pytz                      2023.3             pyhd8ed1ab_0    conda-forge\n",
      "pyyaml                    6.0             py310h8e9501a_5    conda-forge\n",
      "pyzmq                     25.1.0          py310h30b7201_0    conda-forge\n",
      "readline                  8.2                  h92ec313_1    conda-forge\n",
      "referencing               0.29.1             pyhd8ed1ab_0    conda-forge\n",
      "requests                  2.31.0             pyhd8ed1ab_0    conda-forge\n",
      "requests-oauthlib         1.3.1                    pypi_0    pypi\n",
      "rfc3339-validator         0.1.4              pyhd8ed1ab_0    conda-forge\n",
      "rfc3986-validator         0.1.1              pyh9f0ad1d_0    conda-forge\n",
      "rpds-py                   0.8.8           py310had9acf8_0    conda-forge\n",
      "rsa                       4.9                      pypi_0    pypi\n",
      "s3transfer                0.6.1              pyhd8ed1ab_0    conda-forge\n",
      "scikit-learn              1.3.0           py310h02d4e2a_0    conda-forge\n",
      "scipy                     1.11.1          py310h0975f3d_0    conda-forge\n",
      "seaborn                   0.12.2                   pypi_0    pypi\n",
      "send2trash                1.8.2              pyhd1c38e8_0    conda-forge\n",
      "setuptools                68.0.0             pyhd8ed1ab_0    conda-forge\n",
      "six                       1.16.0             pyh6c4a22f_0    conda-forge\n",
      "sniffio                   1.3.0              pyhd8ed1ab_0    conda-forge\n",
      "soupsieve                 2.3.2.post1        pyhd8ed1ab_0    conda-forge\n",
      "stack_data                0.6.2              pyhd8ed1ab_0    conda-forge\n",
      "tensorboard               2.13.0                   pypi_0    pypi\n",
      "tensorboard-data-server   0.7.1                    pypi_0    pypi\n",
      "tensorflow-estimator      2.13.0                   pypi_0    pypi\n",
      "tensorflow-macos          2.13.0                   pypi_0    pypi\n",
      "tensorflow-metal          1.0.1                    pypi_0    pypi\n",
      "termcolor                 2.3.0                    pypi_0    pypi\n",
      "terminado                 0.17.1             pyhd1c38e8_0    conda-forge\n",
      "text-unidecode            1.3                      pypi_0    pypi\n",
      "threadpoolctl             3.1.0              pyh8a188c0_0    conda-forge\n",
      "tinycss2                  1.2.1              pyhd8ed1ab_0    conda-forge\n",
      "tk                        8.6.12               he1e0b03_0    conda-forge\n",
      "tornado                   6.3.2           py310h2aa6e3c_0    conda-forge\n",
      "tqdm                      4.65.0             pyhd8ed1ab_1    conda-forge\n",
      "traitlets                 5.9.0              pyhd8ed1ab_0    conda-forge\n",
      "typing-extensions         4.5.0                    pypi_0    pypi\n",
      "typing_utils              0.1.0              pyhd8ed1ab_0    conda-forge\n",
      "tzdata                    2023c                h71feb2d_0    conda-forge\n",
      "unicodedata2              15.0.0          py310h8e9501a_0    conda-forge\n",
      "urllib3                   1.26.15            pyhd8ed1ab_0    conda-forge\n",
      "wcwidth                   0.2.6              pyhd8ed1ab_0    conda-forge\n",
      "webcolors                 1.13                     pypi_0    pypi\n",
      "webencodings              0.5.1                      py_1    conda-forge\n",
      "websocket-client          1.6.1              pyhd8ed1ab_0    conda-forge\n",
      "werkzeug                  2.3.6              pyhd8ed1ab_0    conda-forge\n",
      "wheel                     0.40.0             pyhd8ed1ab_0    conda-forge\n",
      "widgetsnbextension        4.0.8              pyhd8ed1ab_0    conda-forge\n",
      "wrapt                     1.15.0                   pypi_0    pypi\n",
      "xorg-libxau               1.0.11               hb547adb_0    conda-forge\n",
      "xorg-libxdmcp             1.1.3                h27ca646_0    conda-forge\n",
      "xz                        5.2.6                h57fd34a_0    conda-forge\n",
      "yaml                      0.2.5                h3422bc3_2    conda-forge\n",
      "zeromq                    4.3.4                hbdafb3b_1    conda-forge\n",
      "zipp                      3.15.0             pyhd8ed1ab_0    conda-forge\n",
      "zstd                      1.5.2                h4f39d0f_7    conda-forge\n",
      "\n",
      "Note: you may need to restart the kernel to use updated packages.\n"
     ]
    }
   ],
   "source": [
    "conda list"
   ]
  },
  {
   "cell_type": "code",
   "execution_count": 2,
   "metadata": {},
   "outputs": [
    {
     "name": "stdout",
     "output_type": "stream",
     "text": [
      "Package                       Version\n",
      "----------------------------- -----------\n",
      "absl-py                       1.4.0\n",
      "anyio                         3.7.1\n",
      "appnope                       0.1.3\n",
      "argon2-cffi                   21.3.0\n",
      "argon2-cffi-bindings          21.2.0\n",
      "asttokens                     2.2.1\n",
      "astunparse                    1.6.3\n",
      "attrs                         23.1.0\n",
      "backcall                      0.2.0\n",
      "backports.functools-lru-cache 1.6.5\n",
      "bayesian-optimization         1.4.3\n",
      "beautifulsoup4                4.12.2\n",
      "bleach                        6.0.0\n",
      "blinker                       1.6.2\n",
      "boto3                         1.28.1\n",
      "botocore                      1.31.1\n",
      "brotlipy                      0.7.0\n",
      "cached-property               1.5.2\n",
      "cachetools                    5.3.1\n",
      "certifi                       2023.5.7\n",
      "cffi                          1.15.1\n",
      "chardet                       5.1.0\n",
      "charset-normalizer            3.1.0\n",
      "click                         8.1.4\n",
      "cloudpickle                   2.2.1\n",
      "colorama                      0.4.6\n",
      "comm                          0.1.3\n",
      "contourpy                     1.1.0\n",
      "cryptography                  41.0.1\n",
      "cycler                        0.11.0\n",
      "debugpy                       1.6.7\n",
      "decorator                     5.1.1\n",
      "defusedxml                    0.7.1\n",
      "entrypoints                   0.4\n",
      "exceptiongroup                1.1.2\n",
      "executing                     1.2.0\n",
      "fastjsonschema                2.17.1\n",
      "Flask                         2.3.2\n",
      "flatbuffers                   23.5.26\n",
      "flit_core                     3.9.0\n",
      "fonttools                     4.40.0\n",
      "gast                          0.4.0\n",
      "google-auth                   2.21.0\n",
      "google-auth-oauthlib          1.0.0\n",
      "google-pasta                  0.2.0\n",
      "grpcio                        1.56.0\n",
      "gym                           0.26.2\n",
      "gym-notices                   0.0.8\n",
      "h5py                          3.9.0\n",
      "idna                          3.4\n",
      "importlib-metadata            6.8.0\n",
      "importlib-resources           5.13.0\n",
      "ipykernel                     6.24.0\n",
      "ipython                       8.14.0\n",
      "ipython-genutils              0.2.0\n",
      "ipywidgets                    8.0.7\n",
      "itsdangerous                  2.1.2\n",
      "jedi                          0.18.2\n",
      "Jinja2                        3.1.2\n",
      "jmespath                      1.0.1\n",
      "joblib                        1.3.0\n",
      "jsonpickle                    3.0.1\n",
      "jsonschema                    4.18.0\n",
      "jsonschema-specifications     2023.6.1\n",
      "jupyter                       1.0.0\n",
      "jupyter_client                8.3.0\n",
      "jupyter-console               6.6.3\n",
      "jupyter_core                  5.3.1\n",
      "jupyter-events                0.6.3\n",
      "jupyter_server                2.7.0\n",
      "jupyter_server_terminals      0.4.4\n",
      "jupyterlab-pygments           0.2.2\n",
      "jupyterlab-widgets            3.0.8\n",
      "kaggle                        1.5.15\n",
      "keras                         2.13.1\n",
      "kiwisolver                    1.4.4\n",
      "libclang                      16.0.0\n",
      "lxml                          4.9.3\n",
      "Markdown                      3.4.3\n",
      "MarkupSafe                    2.1.3\n",
      "matplotlib                    3.7.2\n",
      "matplotlib-inline             0.1.6\n",
      "mido                          1.2.10\n",
      "mistune                       3.0.0\n",
      "more-itertools                9.1.0\n",
      "munkres                       1.1.4\n",
      "music21                       9.1.0\n",
      "nbclassic                     1.0.0\n",
      "nbclient                      0.8.0\n",
      "nbconvert                     7.6.0\n",
      "nbformat                      5.9.0\n",
      "nest-asyncio                  1.5.6\n",
      "notebook                      6.5.4\n",
      "notebook_shim                 0.2.3\n",
      "numpy                         1.24.3\n",
      "oauthlib                      3.2.2\n",
      "opt-einsum                    3.3.0\n",
      "overrides                     7.3.1\n",
      "packaging                     23.1\n",
      "pandas                        2.0.3\n",
      "pandas-datareader             0.10.0\n",
      "pandocfilters                 1.5.0\n",
      "parso                         0.8.3\n",
      "pexpect                       4.8.0\n",
      "pickleshare                   0.7.5\n",
      "Pillow                        10.0.0\n",
      "pip                           23.1.2\n",
      "pkgutil_resolve_name          1.3.10\n",
      "platformdirs                  3.8.1\n",
      "pooch                         1.7.0\n",
      "pretty-midi                   0.2.10\n",
      "prometheus-client             0.17.0\n",
      "prompt-toolkit                3.0.39\n",
      "protobuf                      4.23.4\n",
      "psutil                        5.9.5\n",
      "ptyprocess                    0.7.0\n",
      "pure-eval                     0.2.2\n",
      "pyasn1                        0.5.0\n",
      "pyasn1-modules                0.3.0\n",
      "pycparser                     2.21\n",
      "Pygments                      2.15.1\n",
      "pyobjc-core                   9.2\n",
      "pyobjc-framework-Cocoa        9.2\n",
      "pyOpenSSL                     23.2.0\n",
      "pyparsing                     3.0.9\n",
      "PySocks                       1.7.1\n",
      "python-dateutil               2.8.2\n",
      "python-json-logger            2.0.7\n",
      "python-slugify                8.0.1\n",
      "pytz                          2023.3\n",
      "PyYAML                        6.0\n",
      "pyzmq                         25.1.0\n",
      "referencing                   0.29.1\n",
      "requests                      2.31.0\n",
      "requests-oauthlib             1.3.1\n",
      "rfc3339-validator             0.1.4\n",
      "rfc3986-validator             0.1.1\n",
      "rpds-py                       0.8.8\n",
      "rsa                           4.9\n",
      "s3transfer                    0.6.1\n",
      "scikit-learn                  1.3.0\n",
      "scipy                         1.11.1\n",
      "seaborn                       0.12.2\n",
      "Send2Trash                    1.8.2\n",
      "setuptools                    68.0.0\n",
      "six                           1.16.0\n",
      "sniffio                       1.3.0\n",
      "soupsieve                     2.3.2.post1\n",
      "stack-data                    0.6.2\n",
      "tensorboard                   2.13.0\n",
      "tensorboard-data-server       0.7.1\n",
      "tensorflow-estimator          2.13.0\n",
      "tensorflow-macos              2.13.0\n",
      "tensorflow-metal              1.0.1\n",
      "termcolor                     2.3.0\n",
      "terminado                     0.17.1\n",
      "text-unidecode                1.3\n",
      "threadpoolctl                 3.1.0\n",
      "tinycss2                      1.2.1\n",
      "tornado                       6.3.2\n",
      "tqdm                          4.65.0\n",
      "traitlets                     5.9.0\n",
      "typing_extensions             4.5.0\n",
      "typing-utils                  0.1.0\n",
      "tzdata                        2023.3\n",
      "unicodedata2                  15.0.0\n",
      "urllib3                       1.26.15\n",
      "wcwidth                       0.2.6\n",
      "webcolors                     1.13\n",
      "webencodings                  0.5.1\n",
      "websocket-client              1.6.1\n",
      "Werkzeug                      2.3.6\n",
      "wheel                         0.40.0\n",
      "widgetsnbextension            4.0.8\n",
      "wrapt                         1.15.0\n",
      "zipp                          3.15.0\n",
      "Note: you may need to restart the kernel to use updated packages.\n"
     ]
    }
   ],
   "source": [
    "pip list"
   ]
  },
  {
   "cell_type": "code",
   "execution_count": 1,
   "metadata": {},
   "outputs": [],
   "source": [
    "import torch\n",
    "from torch.utils import data as data_\n",
    "import torch.nn as nn\n",
    "from torch.autograd import Variable\n",
    "import matplotlib.pyplot as plt\n",
    "import torchvision"
   ]
  },
  {
   "cell_type": "code",
   "execution_count": 2,
   "metadata": {},
   "outputs": [],
   "source": [
    "EPOCH = 1\n",
    "BATCH_SIZE = 50\n",
    "LR = 0.001\n",
    "DOWNLOAD_MNIST = False"
   ]
  },
  {
   "cell_type": "code",
   "execution_count": 4,
   "metadata": {},
   "outputs": [
    {
     "name": "stdout",
     "output_type": "stream",
     "text": [
      "Downloading http://yann.lecun.com/exdb/mnist/train-images-idx3-ubyte.gz\n",
      "Downloading http://yann.lecun.com/exdb/mnist/train-images-idx3-ubyte.gz to ./mnist/MNIST/raw/train-images-idx3-ubyte.gz\n"
     ]
    },
    {
     "name": "stderr",
     "output_type": "stream",
     "text": [
      "100%|██████████| 9912422/9912422 [00:00<00:00, 32074678.33it/s]\n"
     ]
    },
    {
     "name": "stdout",
     "output_type": "stream",
     "text": [
      "Extracting ./mnist/MNIST/raw/train-images-idx3-ubyte.gz to ./mnist/MNIST/raw\n",
      "\n",
      "Downloading http://yann.lecun.com/exdb/mnist/train-labels-idx1-ubyte.gz\n",
      "Downloading http://yann.lecun.com/exdb/mnist/train-labels-idx1-ubyte.gz to ./mnist/MNIST/raw/train-labels-idx1-ubyte.gz\n"
     ]
    },
    {
     "name": "stderr",
     "output_type": "stream",
     "text": [
      "100%|██████████| 28881/28881 [00:00<00:00, 1855831.57it/s]\n"
     ]
    },
    {
     "name": "stdout",
     "output_type": "stream",
     "text": [
      "Extracting ./mnist/MNIST/raw/train-labels-idx1-ubyte.gz to ./mnist/MNIST/raw\n",
      "\n",
      "Downloading http://yann.lecun.com/exdb/mnist/t10k-images-idx3-ubyte.gz\n",
      "Downloading http://yann.lecun.com/exdb/mnist/t10k-images-idx3-ubyte.gz to ./mnist/MNIST/raw/t10k-images-idx3-ubyte.gz\n"
     ]
    },
    {
     "name": "stderr",
     "output_type": "stream",
     "text": [
      "100%|██████████| 1648877/1648877 [00:00<00:00, 9351877.91it/s]\n"
     ]
    },
    {
     "name": "stdout",
     "output_type": "stream",
     "text": [
      "Extracting ./mnist/MNIST/raw/t10k-images-idx3-ubyte.gz to ./mnist/MNIST/raw\n",
      "\n",
      "Downloading http://yann.lecun.com/exdb/mnist/t10k-labels-idx1-ubyte.gz\n",
      "Downloading http://yann.lecun.com/exdb/mnist/t10k-labels-idx1-ubyte.gz to ./mnist/MNIST/raw/t10k-labels-idx1-ubyte.gz\n"
     ]
    },
    {
     "name": "stderr",
     "output_type": "stream",
     "text": [
      "100%|██████████| 4542/4542 [00:00<00:00, 41595040.98it/s]\n"
     ]
    },
    {
     "name": "stdout",
     "output_type": "stream",
     "text": [
      "Extracting ./mnist/MNIST/raw/t10k-labels-idx1-ubyte.gz to ./mnist/MNIST/raw\n",
      "\n"
     ]
    },
    {
     "name": "stderr",
     "output_type": "stream",
     "text": [
      "/home/parallels/miniconda/envs/MachineLearning/lib/python3.10/site-packages/torchvision/datasets/mnist.py:75: UserWarning: train_data has been renamed data\n",
      "  warnings.warn(\"train_data has been renamed data\")\n",
      "/home/parallels/miniconda/envs/MachineLearning/lib/python3.10/site-packages/torchvision/datasets/mnist.py:65: UserWarning: train_labels has been renamed targets\n",
      "  warnings.warn(\"train_labels has been renamed targets\")\n"
     ]
    },
    {
     "name": "stdout",
     "output_type": "stream",
     "text": [
      "torch.Size([60000, 28, 28])\n",
      "torch.Size([60000])\n"
     ]
    },
    {
     "data": {
      "image/png": "[encoded data removed]",
      "text/plain": [
       "<Figure size 640x480 with 1 Axes>"
      ]
     },
     "metadata": {},
     "output_type": "display_data"
    },
    {
     "data": {
      "image/png": "[encoded data removed]",
      "text/plain": [
       "<Figure size 640x480 with 1 Axes>"
      ]
     },
     "metadata": {},
     "output_type": "display_data"
    },
    {
     "data": {
      "image/png": "[encoded data removed]",
      "text/plain": [
       "<Figure size 640x480 with 1 Axes>"
      ]
     },
     "metadata": {},
     "output_type": "display_data"
    },
    {
     "data": {
      "image/png": "[encoded data removed]",
      "text/plain": [
       "<Figure size 640x480 with 1 Axes>"
      ]
     },
     "metadata": {},
     "output_type": "display_data"
    },
    {
     "data": {
      "image/png": "[encoded data removed]",
      "text/plain": [
       "<Figure size 640x480 with 1 Axes>"
      ]
     },
     "metadata": {},
     "output_type": "display_data"
    },
    {
     "data": {
      "image/png": "[encoded data removed]",
      "text/plain": [
       "<Figure size 640x480 with 1 Axes>"
      ]
     },
     "metadata": {},
     "output_type": "display_data"
    },
    {
     "data": {
      "image/png": "[encoded data removed]",
      "text/plain": [
       "<Figure size 640x480 with 1 Axes>"
      ]
     },
     "metadata": {},
     "output_type": "display_data"
    },
    {
     "data": {
      "image/png": "[encoded data removed]",
      "text/plain": [
       "<Figure size 640x480 with 1 Axes>"
      ]
     },
     "metadata": {},
     "output_type": "display_data"
    },
    {
     "data": {
      "image/png": "[encoded data removed]",
      "text/plain": [
       "<Figure size 640x480 with 1 Axes>"
      ]
     },
     "metadata": {},
     "output_type": "display_data"
    },
    {
     "data": {
      "image/png": "[encoded data removed]",
      "text/plain": [
       "<Figure size 640x480 with 1 Axes>"
      ]
     },
     "metadata": {},
     "output_type": "display_data"
    },
    {
     "data": {
      "image/png": "[encoded data removed]",
      "text/plain": [
       "<Figure size 640x480 with 1 Axes>"
      ]
     },
     "metadata": {},
     "output_type": "display_data"
    }
   ],
   "source": [
    "train_data = torchvision.datasets.MNIST(root = './mnist',train = True,transform = torchvision.transforms.ToTensor(),download = True)\n",
    "\n",
    "print(train_data.train_data.size())\n",
    "print(train_data.train_labels.size())\n",
    "plt.ion()\n",
    "for i in range(11):\n",
    "  plt.imshow(train_data.train_data[i].numpy(), cmap = 'gray')\n",
    "  plt.title('%i' % train_data.train_labels[i])\n",
    "  plt.pause(0.5)\n",
    "plt.show()"
   ]
  },
  {
   "cell_type": "code",
   "execution_count": 5,
   "metadata": {},
   "outputs": [
    {
     "name": "stderr",
     "output_type": "stream",
     "text": [
      "/home/parallels/miniconda/envs/MachineLearning/lib/python3.10/site-packages/torchvision/datasets/mnist.py:80: UserWarning: test_data has been renamed data\n",
      "  warnings.warn(\"test_data has been renamed data\")\n",
      "/home/parallels/miniconda/envs/MachineLearning/lib/python3.10/site-packages/torchvision/datasets/mnist.py:70: UserWarning: test_labels has been renamed targets\n",
      "  warnings.warn(\"test_labels has been renamed targets\")\n"
     ]
    }
   ],
   "source": [
    "train_loader = data_.DataLoader(dataset = train_data, batch_size = BATCH_SIZE, shuffle = True,num_workers = 2)\n",
    "\n",
    "test_data = torchvision.datasets.MNIST(root = './mnist/', train = False)\n",
    "test_x = torch.unsqueeze(test_data.test_data, dim = 1).type(torch.FloatTensor)[:2000]/255.\n",
    "test_y = test_data.test_labels[:2000]"
   ]
  },
  {
   "cell_type": "code",
   "execution_count": 6,
   "metadata": {},
   "outputs": [
    {
     "name": "stdout",
     "output_type": "stream",
     "text": [
      "CNN(\n",
      "  (conv1): Sequential(\n",
      "    (0): Conv2d(1, 16, kernel_size=(5, 5), stride=(1, 1), padding=(2, 2))\n",
      "    (1): ReLU()\n",
      "    (2): MaxPool2d(kernel_size=2, stride=2, padding=0, dilation=1, ceil_mode=False)\n",
      "  )\n",
      "  (conv2): Sequential(\n",
      "    (0): Conv2d(16, 32, kernel_size=(5, 5), stride=(1, 1), padding=(2, 2))\n",
      "    (1): ReLU()\n",
      "    (2): MaxPool2d(kernel_size=2, stride=2, padding=0, dilation=1, ceil_mode=False)\n",
      "  )\n",
      "  (out): Linear(in_features=1568, out_features=10, bias=True)\n",
      ")\n"
     ]
    }
   ],
   "source": [
    "class CNN(nn.Module):\n",
    "  def __init__(self):\n",
    "    super(CNN, self).__init__()\n",
    "    self.conv1 = nn.Sequential(\n",
    "        nn.Conv2d(in_channels = 1, out_channels = 16, kernel_size = 5, stride = 1, padding = 2,),# stride = 1, padding = (kernel_size-1)/2 = (5-1)/2\n",
    "        nn.ReLU(),# (16, 28, 28)\n",
    "        nn.MaxPool2d(kernel_size = 2),# (16, 14, 14)\n",
    "    )\n",
    "    self.conv2 = nn.Sequential(# (16, 14, 14)\n",
    "        nn.Conv2d(16, 32, 5, 1, 2),# (32, 14, 14)\n",
    "        nn.ReLU(),# (32,14,14)\n",
    "        nn.MaxPool2d(2)# (32, 7, 7)\n",
    "    )\n",
    "    self.out = nn.Linear(32*7*7, 10)\n",
    "\n",
    "  def forward(self, x):\n",
    "    x = self.conv1(x)\n",
    "    x = self.conv2(x)\n",
    "    x = x.view(x.size(0), -1)\n",
    "    output = self.out(x)\n",
    "    return output, x\n",
    "\n",
    "cnn = CNN()\n",
    "print(cnn)"
   ]
  },
  {
   "cell_type": "code",
   "execution_count": 7,
   "metadata": {},
   "outputs": [],
   "source": [
    "optimization = torch.optim.Adam(cnn.parameters(), lr = LR)\n",
    "loss_func = nn.CrossEntropyLoss()"
   ]
  },
  {
   "cell_type": "code",
   "execution_count": 8,
   "metadata": {},
   "outputs": [
    {
     "name": "stdout",
     "output_type": "stream",
     "text": [
      "Epoch:  0 | train loss: 2.3116 | test accuracy: 0.18\n",
      "Epoch:  0 | train loss: 0.4911 | test accuracy: 0.83\n",
      "Epoch:  0 | train loss: 0.2130 | test accuracy: 0.89\n",
      "Epoch:  0 | train loss: 0.1960 | test accuracy: 0.93\n",
      "Epoch:  0 | train loss: 0.2301 | test accuracy: 0.93\n",
      "Epoch:  0 | train loss: 0.1004 | test accuracy: 0.95\n",
      "Epoch:  0 | train loss: 0.2240 | test accuracy: 0.95\n",
      "Epoch:  0 | train loss: 0.1170 | test accuracy: 0.95\n",
      "Epoch:  0 | train loss: 0.1235 | test accuracy: 0.96\n",
      "Epoch:  0 | train loss: 0.0647 | test accuracy: 0.97\n",
      "Epoch:  0 | train loss: 0.0138 | test accuracy: 0.97\n",
      "Epoch:  0 | train loss: 0.0634 | test accuracy: 0.97\n",
      "Epoch:  0 | train loss: 0.1473 | test accuracy: 0.96\n",
      "Epoch:  0 | train loss: 0.1469 | test accuracy: 0.97\n",
      "Epoch:  0 | train loss: 0.2717 | test accuracy: 0.97\n",
      "Epoch:  0 | train loss: 0.0304 | test accuracy: 0.97\n",
      "Epoch:  0 | train loss: 0.1938 | test accuracy: 0.97\n",
      "Epoch:  0 | train loss: 0.1219 | test accuracy: 0.97\n",
      "Epoch:  0 | train loss: 0.0357 | test accuracy: 0.97\n",
      "Epoch:  0 | train loss: 0.0265 | test accuracy: 0.97\n",
      "Epoch:  0 | train loss: 0.0956 | test accuracy: 0.97\n",
      "Epoch:  0 | train loss: 0.0178 | test accuracy: 0.98\n",
      "Epoch:  0 | train loss: 0.0133 | test accuracy: 0.98\n",
      "Epoch:  0 | train loss: 0.0727 | test accuracy: 0.98\n"
     ]
    }
   ],
   "source": [
    "for epoch in range(EPOCH):\n",
    "  for step, (batch_x, batch_y) in enumerate(train_loader):\n",
    "    bx = Variable(batch_x)\n",
    "    by = Variable(batch_y)\n",
    "    output = cnn(bx)[0]\n",
    "    loss = loss_func(output, by)\n",
    "    optimization.zero_grad()\n",
    "    loss.backward()\n",
    "    optimization.step()\n",
    "\n",
    "    if step % 50 == 0:\n",
    "        test_output, last_layer = cnn(test_x)\n",
    "        pred_y = torch.max(test_output, 1)[1].data.numpy()\n",
    "        accuracy = float((pred_y == test_y.data.numpy()).astype(int).sum()) / float(test_y.size(0))\n",
    "        print('Epoch: ', epoch, '| train loss: %.4f' % loss.data.numpy(), '| test accuracy: %.2f' % accuracy)"
   ]
  },
  {
   "cell_type": "code",
   "execution_count": 9,
   "metadata": {},
   "outputs": [
    {
     "name": "stdout",
     "output_type": "stream",
     "text": [
      "[7 2 1 0 4 1 4 9 5 9] prediction number\n",
      "[7 2 1 0 4 1 4 9 5 9] real number\n"
     ]
    },
    {
     "name": "stderr",
     "output_type": "stream",
     "text": [
      "OpenBLAS Warning : Detect OpenMP Loop and this application may hang. Please rebuild the library with USE_OPENMP=1 option.\n",
      "OpenBLAS Warning : Detect OpenMP Loop and this application may hang. Please rebuild the library with USE_OPENMP=1 option.\n",
      "OpenBLAS Warning : Detect OpenMP Loop and this application may hang. Please rebuild the library with USE_OPENMP=1 option.\n",
      "OpenBLAS Warning : Detect OpenMP Loop and this application may hang. Please rebuild the library with USE_OPENMP=1 option.\n",
      "OpenBLAS Warning : Detect OpenMP Loop and this application may hang. Please rebuild the library with USE_OPENMP=1 option.\n",
      "OpenBLAS Warning : Detect OpenMP Loop and this application may hang. Please rebuild the library with USE_OPENMP=1 option.\n",
      "OpenBLAS Warning : Detect OpenMP Loop and this application may hang. Please rebuild the library with USE_OPENMP=1 option.\n",
      "OpenBLAS Warning : Detect OpenMP Loop and this application may hang. Please rebuild the library with USE_OPENMP=1 option.\n",
      "OpenBLAS Warning : Detect OpenMP Loop and this application may hang. Please rebuild the library with USE_OPENMP=1 option.\n",
      "OpenBLAS Warning : Detect OpenMP Loop and this application may hang. Please rebuild the library with USE_OPENMP=1 option.\n",
      "OpenBLAS Warning : Detect OpenMP Loop and this application may hang. Please rebuild the library with USE_OPENMP=1 option.\n",
      "OpenBLAS Warning : Detect OpenMP Loop and this application may hang. Please rebuild the library with USE_OPENMP=1 option.\n",
      "OpenBLAS Warning : Detect OpenMP Loop and this application may hang. Please rebuild the library with USE_OPENMP=1 option.\n",
      "OpenBLAS Warning : Detect OpenMP Loop and this application may hang. Please rebuild the library with USE_OPENMP=1 option.\n",
      "OpenBLAS Warning : Detect OpenMP Loop and this application may hang. Please rebuild the library with USE_OPENMP=1 option.\n",
      "OpenBLAS Warning : Detect OpenMP Loop and this application may hang. Please rebuild the library with USE_OPENMP=1 option.\n",
      "OpenBLAS Warning : Detect OpenMP Loop and this application may hang. Please rebuild the library with USE_OPENMP=1 option.\n",
      "OpenBLAS Warning : Detect OpenMP Loop and this application may hang. Please rebuild the library with USE_OPENMP=1 option.\n",
      "OpenBLAS Warning : Detect OpenMP Loop and this application may hang. Please rebuild the library with USE_OPENMP=1 option.\n",
      "OpenBLAS Warning : Detect OpenMP Loop and this application may hang. Please rebuild the library with USE_OPENMP=1 option.\n"
     ]
    }
   ],
   "source": [
    "test_output, _ = cnn(test_x[:10])\n",
    "pred_y = torch.max(test_output, 1)[1].data.numpy()\n",
    "print(pred_y, 'prediction number')\n",
    "print(test_y[:10].numpy(), 'real number')"
   ]
  },
  {
   "cell_type": "code",
   "execution_count": null,
   "metadata": {},
   "outputs": [],
   "source": []
  }
 ],
 "metadata": {
  "kernelspec": {
   "display_name": "Python 3.10 (tensorflow)",
   "language": "python",
   "name": "tensorflow"
  },
  "language_info": {
   "codemirror_mode": {
    "name": "ipython",
    "version": 3
   },
   "file_extension": ".py",
   "mimetype": "text/x-python",
   "name": "python",
   "nbconvert_exporter": "python",
   "pygments_lexer": "ipython3",
   "version": "3.10.12"
  }
 },
 "nbformat": 4,
 "nbformat_minor": 2
}
